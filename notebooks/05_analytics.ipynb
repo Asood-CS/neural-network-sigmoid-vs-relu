{
  "nbformat": 4,
  "nbformat_minor": 0,
  "metadata": {
    "colab": {
      "provenance": []
    },
    "kernelspec": {
      "name": "python3",
      "display_name": "Python 3"
    },
    "language_info": {
      "name": "python"
    }
  },
  "cells": [
    {
      "cell_type": "markdown",
      "source": [
        "#05 - Model Analytics\n"
      ],
      "metadata": {
        "id": "G0COgP7ehbZA"
      }
    },
    {
      "cell_type": "markdown",
      "source": [
        "In addition to analyzing complex loss metrics, I decided to record certain accuracy benchmarks for both models. Instead of just using raw accuracy, I learned about the F1 score, a more comprehensive statistical metric that accounts for imbalances between dataset classes. To record the performance of both activation functions, I also set up a Pandas data frame that saves training metrics for future reference."
      ],
      "metadata": {
        "id": "I5iDRHZJhbp2"
      }
    },
    {
      "cell_type": "code",
      "source": [
        "def calculate_f1(outputs, labels, threshold):\n",
        "  #Finding accurate model predictions\n",
        "  predictions = (outputs >= threshold).int()\n",
        "  #Creating a confusion matrix of predictions\n",
        "  true_positives = ((predictions == 1) & (labels == 1)).sum().item()\n",
        "  false_positives = ((predictions == 1) & (labels == 0)).sum().item()\n",
        "  false_negatives = ((predictions == 0) & (labels == 1)).sum().item()\n",
        "  #Balancing precision and recall using the F1 Score algorithm\n",
        "  precision = true_positives / (true_positives + false_positives + 1e-8)\n",
        "  recall = true_positives / (true_positives + false_negatives + 1e-8)\n",
        "  f1 = 2 * (precision * recall) / (precision + recall + 1e-8)\n",
        "  return f1\n",
        "\n",
        "def find_best_f1(outputs, labels):\n",
        "  best_f1 = 0\n",
        "  best_threshold = 0\n",
        "  #Identifying which model threshold yields the best F1 Score\n",
        "  for threshold in [0.1, 0.2, 0.3, 0.4, 0.5, 0.6, 0.7, 0.8, 0.9]:\n",
        "    f1 = calculate_f1(outputs, labels, threshold)\n",
        "    if f1 > best_f1:\n",
        "      best_f1 = f1\n",
        "      best_threshold = threshold\n",
        "  return best_f1, best_threshold"
      ],
      "metadata": {
        "id": "bVqq5iWZxZKm"
      },
      "execution_count": null,
      "outputs": []
    },
    {
      "cell_type": "code",
      "source": [
        "import pandas as pd\n",
        "import numpy as np\n",
        "\n",
        "#Creating a data row to log different training metrics\n",
        "columns = [\n",
        "    'epoch',             # int or NaN if unknown\n",
        "    'step',              # int or NaN if unknown\n",
        "    'activation',        # string ('relu' or 'sigmoid')\n",
        "    'train_loss',        # float (NaN if not logged at step)\n",
        "    'val_loss',          # float (NaN if not logged at step)\n",
        "    'f1_score',          # float (NaN if not logged at step)\n",
        "    'lipschitz_upper',   # float (NaN if not logged at epoch)\n",
        "    'lipschitz_lower',   # float (NaN if not logged at epoch)\n",
        "    'max_hessian_eigval' # float (NaN if not logged at epoch)\n",
        "]\n",
        "\n",
        "#Transforming these parameters into a data frame\n",
        "df = pd.DataFrame({col: pd.Series(dtype='float') for col in columns})\n",
        "\n",
        "# Explicitly setting the activation column data type as string\n",
        "df['activation'] = df['activation'].astype('string')\n",
        "\n",
        "print(df.dtypes)\n",
        "print(df)\n"
      ],
      "metadata": {
        "colab": {
          "base_uri": "https://localhost:8080/"
        },
        "id": "GEDcOVUD5uPH",
        "outputId": "df77d3aa-4652-45c7-b2a8-01ab932d5f7c"
      },
      "execution_count": null,
      "outputs": [
        {
          "output_type": "stream",
          "name": "stdout",
          "text": [
            "epoch                        float64\n",
            "step                         float64\n",
            "activation            string[python]\n",
            "train_loss                   float64\n",
            "val_loss                     float64\n",
            "f1_score                     float64\n",
            "lipschitz_upper              float64\n",
            "lipschitz_lower              float64\n",
            "max_hessian_eigval           float64\n",
            "dtype: object\n",
            "Empty DataFrame\n",
            "Columns: [epoch, step, activation, train_loss, val_loss, f1_score, lipschitz_upper, lipschitz_lower, max_hessian_eigval]\n",
            "Index: []\n"
          ]
        }
      ]
    }
  ]
}