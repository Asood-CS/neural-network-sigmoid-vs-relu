{
  "nbformat": 4,
  "nbformat_minor": 0,
  "metadata": {
    "colab": {
      "provenance": []
    },
    "kernelspec": {
      "name": "python3",
      "display_name": "Python 3"
    },
    "language_info": {
      "name": "python"
    }
  },
  "cells": [
    {
      "cell_type": "markdown",
      "source": [
        "#08 - Error Analysis"
      ],
      "metadata": {
        "id": "tMCIYadqmzW3"
      }
    },
    {
      "cell_type": "markdown",
      "source": [
        "To evaluate the performance of both activation functions with respect to one another, I decided to generate contingency matrices. I modeled the identification of false postives and false negatives by Sigmoid and ReLU. I found that ReLU's robustness led it to predict falsely more often than Sigmoid; however, similarities among both functions' false predictions suggest that the dataset contained some training examples intrinsically difficult to learn."
      ],
      "metadata": {
        "id": "ZsTAnkpgmzj7"
      }
    },
    {
      "cell_type": "code",
      "source": [
        "#Importing all existing network configurations\n",
        "import sys, pathlib\n",
        "sys.path.append(str(pathlib.Path.cwd().parent / \"src\"))\n",
        "from utils import make_mlp, set_seed, plot_loss"
      ],
      "metadata": {
        "id": "pWJpuXy5nCVt"
      },
      "execution_count": null,
      "outputs": []
    },
    {
      "cell_type": "code",
      "source": [
        "def collectExamples(model, dataloader, threshold):\n",
        "  #Running model in evaluation mode\n",
        "  model.eval()\n",
        "  with torch.no_grad():\n",
        "    val_labels = []\n",
        "    val_predictions = []\n",
        "    val_outputs = []\n",
        "    #Calculating accuracy on validation data set\n",
        "    for val_x, val_y in dataloader:\n",
        "\n",
        "      outputs = model(val_x)\n",
        "      predictions = (outputs >= threshold).int()\n",
        "      val_labels.append(val_y)\n",
        "      val_outputs.append(outputs)\n",
        "      val_predictions.append(predictions)\n",
        "\n",
        "    #Recording model prediction vs true outputs\n",
        "    val_labels = torch.cat(val_labels, dim = 0)\n",
        "    val_predictions = torch.cat(val_predictions, dim = 0)\n",
        "    val_outputs = torch.cat(val_outputs, dim = 0)\n",
        "    return val_labels, val_predictions, val_outputs\n",
        "\n",
        "val_labels, val_predictions, val_outputs = collectExamples(model, val_dataloader, val_best_threshold)"
      ],
      "metadata": {
        "id": "nLuLDHs78axK"
      },
      "execution_count": null,
      "outputs": []
    },
    {
      "cell_type": "code",
      "source": [
        "#Applying logic masks to find false positives and false negatives of both activation functions\n",
        "relu_fp_mask = (val_labels == 0) & (val_predictions == 1)\n",
        "relu_fn_mask = (val_labels == 1) & (val_predictions == 0)\n",
        "\n",
        "sig_fp_mask = (val_labels == 0) & (val_predictions == 1)\n",
        "sig_fn_mask = (val_labels == 1) & (val_predictions == 0)"
      ],
      "metadata": {
        "id": "pnREdlsS-aCq"
      },
      "execution_count": null,
      "outputs": []
    },
    {
      "cell_type": "code",
      "source": [
        "#Printing data for tabulation\n",
        "print(\"False positives: \\n\")\n",
        "print(sig_fp_mask.sum(), relu_fp_mask.sum())\n",
        "\n",
        "print((sig_fp_mask & relu_fp_mask).sum())\n",
        "print(((~relu_fp_mask) & sig_fp_mask).sum())\n",
        "print((relu_fp_mask & (~sig_fp_mask)).sum())\n",
        "print(((~relu_fp_mask) & (~sig_fp_mask)).sum())\n",
        "\n",
        "\n",
        "print(\"\\n False negatives: \\n\")\n",
        "print(sig_fn_mask.sum(), relu_fn_mask.sum())\n",
        "\n",
        "print((sig_fn_mask & relu_fn_mask).sum())\n",
        "print(((~relu_fn_mask) & sig_fn_mask).sum())\n",
        "print((relu_fn_mask & (~sig_fn_mask)).sum())\n",
        "print(((~relu_fn_mask) & (~sig_fn_mask)).sum())\n"
      ],
      "metadata": {
        "colab": {
          "base_uri": "https://localhost:8080/"
        },
        "id": "dIgwUVqn_Uo4",
        "outputId": "096ce60c-f6e6-4619-d4a4-6e6084df4e48"
      },
      "execution_count": null,
      "outputs": [
        {
          "output_type": "stream",
          "name": "stdout",
          "text": [
            "False positives: \n",
            "\n",
            "tensor(189) tensor(218)\n",
            "tensor(157)\n",
            "tensor(32)\n",
            "tensor(61)\n",
            "tensor(790)\n",
            "\n",
            " False negatives: \n",
            "\n",
            "tensor(60) tensor(44)\n",
            "tensor(30)\n",
            "tensor(30)\n",
            "tensor(14)\n",
            "tensor(966)\n"
          ]
        }
      ]
    }
  ]
}